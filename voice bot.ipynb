{
 "cells": [
  {
   "cell_type": "code",
   "execution_count": 3,
   "id": "e6a10a43-abdc-4f34-844a-d238e77b6567",
   "metadata": {},
   "outputs": [
    {
     "name": "stdout",
     "output_type": "stream",
     "text": [
      "Requirement already satisfied: pyaudio in c:\\users\\rahul\\anaconda3\\lib\\site-packages (0.2.14)\n"
     ]
    }
   ],
   "source": [
    "!pip install pyaudio\n",
    "\n"
   ]
  },
  {
   "cell_type": "code",
   "execution_count": 4,
   "id": "2910fc19-f132-4959-957b-2b43a033c082",
   "metadata": {},
   "outputs": [
    {
     "name": "stdout",
     "output_type": "stream",
     "text": [
      "Requirement already satisfied: pydub in c:\\users\\rahul\\anaconda3\\lib\\site-packages (0.25.1)\n",
      "Requirement already satisfied: simpleaudio in c:\\users\\rahul\\anaconda3\\lib\\site-packages (1.0.4)\n"
     ]
    }
   ],
   "source": [
    "! pip install pydub simpleaudio\n",
    "\n",
    "\n"
   ]
  },
  {
   "cell_type": "code",
   "execution_count": 5,
   "id": "eb699b0d-dd35-4e1e-863e-e887e1f5bff2",
   "metadata": {},
   "outputs": [
    {
     "name": "stdout",
     "output_type": "stream",
     "text": [
      "Requirement already satisfied: assemblyai[extras] in c:\\users\\rahul\\anaconda3\\lib\\site-packages (0.33.0)\n",
      "Requirement already satisfied: httpx>=0.19.0 in c:\\users\\rahul\\anaconda3\\lib\\site-packages (from assemblyai[extras]) (0.27.2)\n",
      "Requirement already satisfied: pydantic!=1.10.7,>=1.7.0 in c:\\users\\rahul\\anaconda3\\lib\\site-packages (from assemblyai[extras]) (1.10.12)\n",
      "Requirement already satisfied: typing-extensions>=3.7 in c:\\users\\rahul\\anaconda3\\lib\\site-packages (from assemblyai[extras]) (4.12.2)\n",
      "Requirement already satisfied: websockets>=11.0 in c:\\users\\rahul\\anaconda3\\lib\\site-packages (from assemblyai[extras]) (13.0)\n",
      "Requirement already satisfied: pyaudio>=0.2.13 in c:\\users\\rahul\\anaconda3\\lib\\site-packages (from assemblyai[extras]) (0.2.14)\n",
      "Requirement already satisfied: anyio in c:\\users\\rahul\\anaconda3\\lib\\site-packages (from httpx>=0.19.0->assemblyai[extras]) (4.2.0)\n",
      "Requirement already satisfied: certifi in c:\\users\\rahul\\anaconda3\\lib\\site-packages (from httpx>=0.19.0->assemblyai[extras]) (2024.7.4)\n",
      "Requirement already satisfied: httpcore==1.* in c:\\users\\rahul\\anaconda3\\lib\\site-packages (from httpx>=0.19.0->assemblyai[extras]) (1.0.5)\n",
      "Requirement already satisfied: idna in c:\\users\\rahul\\anaconda3\\lib\\site-packages (from httpx>=0.19.0->assemblyai[extras]) (3.4)\n",
      "Requirement already satisfied: sniffio in c:\\users\\rahul\\anaconda3\\lib\\site-packages (from httpx>=0.19.0->assemblyai[extras]) (1.3.0)\n",
      "Requirement already satisfied: h11<0.15,>=0.13 in c:\\users\\rahul\\anaconda3\\lib\\site-packages (from httpcore==1.*->httpx>=0.19.0->assemblyai[extras]) (0.14.0)\n"
     ]
    }
   ],
   "source": [
    "! pip install \"assemblyai[extras]\""
   ]
  },
  {
   "cell_type": "code",
   "execution_count": 6,
   "id": "4adb1687-a8ad-4175-be99-a6b347f7a2d3",
   "metadata": {},
   "outputs": [
    {
     "name": "stdout",
     "output_type": "stream",
     "text": [
      "Requirement already satisfied: elevenlabs==0.3.0b0 in c:\\users\\rahul\\anaconda3\\lib\\site-packages (0.3.0b0)\n",
      "Requirement already satisfied: httpx>=0.21.2 in c:\\users\\rahul\\anaconda3\\lib\\site-packages (from elevenlabs==0.3.0b0) (0.27.2)\n",
      "Requirement already satisfied: ipython>=7.0 in c:\\users\\rahul\\anaconda3\\lib\\site-packages (from elevenlabs==0.3.0b0) (8.20.0)\n",
      "Requirement already satisfied: pydantic<2.5.0,>=1.9.2 in c:\\users\\rahul\\anaconda3\\lib\\site-packages (from elevenlabs==0.3.0b0) (1.10.12)\n",
      "Requirement already satisfied: requests>=2.20 in c:\\users\\rahul\\anaconda3\\lib\\site-packages (from elevenlabs==0.3.0b0) (2.31.0)\n",
      "Requirement already satisfied: websockets>=11.0 in c:\\users\\rahul\\anaconda3\\lib\\site-packages (from elevenlabs==0.3.0b0) (13.0)\n",
      "Requirement already satisfied: anyio in c:\\users\\rahul\\anaconda3\\lib\\site-packages (from httpx>=0.21.2->elevenlabs==0.3.0b0) (4.2.0)\n",
      "Requirement already satisfied: certifi in c:\\users\\rahul\\anaconda3\\lib\\site-packages (from httpx>=0.21.2->elevenlabs==0.3.0b0) (2024.7.4)\n",
      "Requirement already satisfied: httpcore==1.* in c:\\users\\rahul\\anaconda3\\lib\\site-packages (from httpx>=0.21.2->elevenlabs==0.3.0b0) (1.0.5)\n",
      "Requirement already satisfied: idna in c:\\users\\rahul\\anaconda3\\lib\\site-packages (from httpx>=0.21.2->elevenlabs==0.3.0b0) (3.4)\n",
      "Requirement already satisfied: sniffio in c:\\users\\rahul\\anaconda3\\lib\\site-packages (from httpx>=0.21.2->elevenlabs==0.3.0b0) (1.3.0)\n",
      "Requirement already satisfied: h11<0.15,>=0.13 in c:\\users\\rahul\\anaconda3\\lib\\site-packages (from httpcore==1.*->httpx>=0.21.2->elevenlabs==0.3.0b0) (0.14.0)\n",
      "Requirement already satisfied: decorator in c:\\users\\rahul\\anaconda3\\lib\\site-packages (from ipython>=7.0->elevenlabs==0.3.0b0) (5.1.1)\n",
      "Requirement already satisfied: jedi>=0.16 in c:\\users\\rahul\\anaconda3\\lib\\site-packages (from ipython>=7.0->elevenlabs==0.3.0b0) (0.18.1)\n",
      "Requirement already satisfied: matplotlib-inline in c:\\users\\rahul\\anaconda3\\lib\\site-packages (from ipython>=7.0->elevenlabs==0.3.0b0) (0.1.6)\n",
      "Requirement already satisfied: prompt-toolkit<3.1.0,>=3.0.41 in c:\\users\\rahul\\anaconda3\\lib\\site-packages (from ipython>=7.0->elevenlabs==0.3.0b0) (3.0.43)\n",
      "Requirement already satisfied: pygments>=2.4.0 in c:\\users\\rahul\\anaconda3\\lib\\site-packages (from ipython>=7.0->elevenlabs==0.3.0b0) (2.15.1)\n",
      "Requirement already satisfied: stack-data in c:\\users\\rahul\\anaconda3\\lib\\site-packages (from ipython>=7.0->elevenlabs==0.3.0b0) (0.2.0)\n",
      "Requirement already satisfied: traitlets>=5 in c:\\users\\rahul\\anaconda3\\lib\\site-packages (from ipython>=7.0->elevenlabs==0.3.0b0) (5.7.1)\n",
      "Requirement already satisfied: colorama in c:\\users\\rahul\\anaconda3\\lib\\site-packages (from ipython>=7.0->elevenlabs==0.3.0b0) (0.4.6)\n",
      "Requirement already satisfied: typing-extensions>=4.2.0 in c:\\users\\rahul\\anaconda3\\lib\\site-packages (from pydantic<2.5.0,>=1.9.2->elevenlabs==0.3.0b0) (4.12.2)\n",
      "Requirement already satisfied: charset-normalizer<4,>=2 in c:\\users\\rahul\\anaconda3\\lib\\site-packages (from requests>=2.20->elevenlabs==0.3.0b0) (2.0.4)\n",
      "Requirement already satisfied: urllib3<3,>=1.21.1 in c:\\users\\rahul\\anaconda3\\lib\\site-packages (from requests>=2.20->elevenlabs==0.3.0b0) (2.0.7)\n",
      "Requirement already satisfied: parso<0.9.0,>=0.8.0 in c:\\users\\rahul\\anaconda3\\lib\\site-packages (from jedi>=0.16->ipython>=7.0->elevenlabs==0.3.0b0) (0.8.3)\n",
      "Requirement already satisfied: wcwidth in c:\\users\\rahul\\anaconda3\\lib\\site-packages (from prompt-toolkit<3.1.0,>=3.0.41->ipython>=7.0->elevenlabs==0.3.0b0) (0.2.5)\n",
      "Requirement already satisfied: executing in c:\\users\\rahul\\anaconda3\\lib\\site-packages (from stack-data->ipython>=7.0->elevenlabs==0.3.0b0) (0.8.3)\n",
      "Requirement already satisfied: asttokens in c:\\users\\rahul\\anaconda3\\lib\\site-packages (from stack-data->ipython>=7.0->elevenlabs==0.3.0b0) (2.0.5)\n",
      "Requirement already satisfied: pure-eval in c:\\users\\rahul\\anaconda3\\lib\\site-packages (from stack-data->ipython>=7.0->elevenlabs==0.3.0b0) (0.2.2)\n",
      "Requirement already satisfied: six in c:\\users\\rahul\\anaconda3\\lib\\site-packages (from asttokens->stack-data->ipython>=7.0->elevenlabs==0.3.0b0) (1.16.0)\n"
     ]
    }
   ],
   "source": [
    "! pip install elevenlabs==0.3.0b0"
   ]
  },
  {
   "cell_type": "code",
   "execution_count": 7,
   "id": "85099d9c-c8a5-4dd6-b44c-957024e2b9b8",
   "metadata": {},
   "outputs": [
    {
     "name": "stdout",
     "output_type": "stream",
     "text": [
      "Requirement already satisfied: mpv in c:\\users\\rahul\\anaconda3\\lib\\site-packages (1.0.7)\n"
     ]
    }
   ],
   "source": [
    "! pip install mpv"
   ]
  },
  {
   "cell_type": "code",
   "execution_count": 8,
   "id": "23293489-5b69-4e0d-88bc-00f54c8f50a6",
   "metadata": {},
   "outputs": [
    {
     "name": "stdout",
     "output_type": "stream",
     "text": [
      "Requirement already satisfied: openai in c:\\users\\rahul\\anaconda3\\lib\\site-packages (1.42.0)\n",
      "Requirement already satisfied: anyio<5,>=3.5.0 in c:\\users\\rahul\\anaconda3\\lib\\site-packages (from openai) (4.2.0)\n",
      "Requirement already satisfied: distro<2,>=1.7.0 in c:\\users\\rahul\\anaconda3\\lib\\site-packages (from openai) (1.8.0)\n",
      "Requirement already satisfied: httpx<1,>=0.23.0 in c:\\users\\rahul\\anaconda3\\lib\\site-packages (from openai) (0.27.2)\n",
      "Requirement already satisfied: jiter<1,>=0.4.0 in c:\\users\\rahul\\anaconda3\\lib\\site-packages (from openai) (0.5.0)\n",
      "Requirement already satisfied: pydantic<3,>=1.9.0 in c:\\users\\rahul\\anaconda3\\lib\\site-packages (from openai) (1.10.12)\n",
      "Requirement already satisfied: sniffio in c:\\users\\rahul\\anaconda3\\lib\\site-packages (from openai) (1.3.0)\n",
      "Requirement already satisfied: tqdm>4 in c:\\users\\rahul\\anaconda3\\lib\\site-packages (from openai) (4.65.0)\n",
      "Requirement already satisfied: typing-extensions<5,>=4.11 in c:\\users\\rahul\\anaconda3\\lib\\site-packages (from openai) (4.12.2)\n",
      "Requirement already satisfied: idna>=2.8 in c:\\users\\rahul\\anaconda3\\lib\\site-packages (from anyio<5,>=3.5.0->openai) (3.4)\n",
      "Requirement already satisfied: certifi in c:\\users\\rahul\\anaconda3\\lib\\site-packages (from httpx<1,>=0.23.0->openai) (2024.7.4)\n",
      "Requirement already satisfied: httpcore==1.* in c:\\users\\rahul\\anaconda3\\lib\\site-packages (from httpx<1,>=0.23.0->openai) (1.0.5)\n",
      "Requirement already satisfied: h11<0.15,>=0.13 in c:\\users\\rahul\\anaconda3\\lib\\site-packages (from httpcore==1.*->httpx<1,>=0.23.0->openai) (0.14.0)\n",
      "Requirement already satisfied: colorama in c:\\users\\rahul\\anaconda3\\lib\\site-packages (from tqdm>4->openai) (0.4.6)\n"
     ]
    }
   ],
   "source": [
    "! pip install --upgrade openai"
   ]
  },
  {
   "cell_type": "code",
   "execution_count": 9,
   "id": "b2c0bde0-2307-40b2-96ea-20b81f90ea70",
   "metadata": {},
   "outputs": [],
   "source": [
    "import assemblyai as aai\n",
    "from elevenlabs import generate,stream\n",
    "from openai import OpenAI"
   ]
  },
  {
   "cell_type": "code",
   "execution_count": null,
   "id": "b4f8e57d-dc99-40c3-9e06-156bc26f6bae",
   "metadata": {},
   "outputs": [],
   "source": [
    " import assemblyai as aai\n",
    "from elevenlabs import generate,stream\n",
    "from openai import OpenAI\n",
    "\n",
    "class AI_Assistant:\n",
    "    def __init__(self):\n",
    "        aai.settings.api_key = \"2810a6e1c2cd47c893288f82677f7d49\"\n",
    "        self.openai_client = OpenAI(api_key=\"2810a6e1c2cd47c893288f82677f7d49\")\n",
    "        self.elevenlabs_api_key = \"2810a6e1c2cd47c893288f82677f7d49\"\n",
    "        self.transcriber = None\n",
    "        self.full_transcript = [\n",
    "            {\n",
    "                \"role\": \"system\", \"content\": \"You are a receptionist at a dental clinic. Be resourceful and efficient.\"\n",
    "            },\n",
    "        ]\n",
    "\n",
    "    def start_transcription(self):\n",
    "        self.transcriber = aai.RealtimeTranscriber(\n",
    "            sample_rate=16000,\n",
    "            on_data=self.on_data,\n",
    "            on_error=self.on_error,\n",
    "            on_open=self.on_open,\n",
    "            on_close=self.on_close,\n",
    "            end_utterance_silence_threshold=1000\n",
    "        )\n",
    "        self.transcriber.connect()\n",
    "        microphone_stream = aai.extras.MicrophoneStream(sample_rate=16000)\n",
    "        self.transcriber.stream(microphone_stream)\n",
    "        \n",
    "    def stop_transcription(self):\n",
    "        if self.transcriber:\n",
    "            self.transcriber.close()\n",
    "            self.transcriber = None\n",
    "            \n",
    "    def on_open(self, session_opened: aai.RealtimeSessionOpened):\n",
    "        return\n",
    "        # print(\"Session ID:\", session_opened.session_id)\n",
    "\n",
    "    def on_data(self, transcript: aai.RealtimeTranscript):\n",
    "        if not transcript.text:\n",
    "            return\n",
    "\n",
    "        if isinstance(transcript, aai.RealtimeFinalTranscript):\n",
    "            self.generate_ai_response(transcript)\n",
    "        else:\n",
    "            print(transcript.text, end=\"\\r\")\n",
    "\n",
    "    def on_error(self, error: aai.RealtimeError):\n",
    "        return\n",
    "        # print(\"An error occurred:\", error)\n",
    "\n",
    "    def on_close(self):\n",
    "        return\n",
    "        # print(\"Closing Session\")\n",
    "\n",
    "    def generate_ai_response(self, transcript):\n",
    "        self.stop_transcription()\n",
    "        self.full_transcript.append({\n",
    "            \"role\": \"user\", \"content\": transcript.text\n",
    "        })\n",
    "        print(f\"\\nPatient: {transcript.text}\", end=\"\\r\\n\")\n",
    "        response = self.openai_client.chat.completions.create(\n",
    "            model=\"gpt-3.5-turbo\",\n",
    "            messages=self.full_transcript\n",
    "        )\n",
    "        ai_response = response.choices[0].message['content']\n",
    "        self.generate_audio(ai_response)\n",
    "        self.start_transcription()\n",
    "\n",
    "    def generate_audio(self, text):\n",
    "        self.full_transcript.append({\"role\": \"assistant\", \"content\": text})\n",
    "        print(f\"\\nAI Receptionist: {text}\")\n",
    "\n",
    "        valid_voice_name = \"Lily\"  # Replace with a valid voice name\n",
    "        try:\n",
    "            audio_stream = generate(\n",
    "                api_key=self.elevenlabs_api_key,\n",
    "                text=text,\n",
    "                voice=valid_voice_name,\n",
    "                stream=True\n",
    "            )\n",
    "            stream(audio_stream)\n",
    "        except ValueError as e:\n",
    "            print(f\"Error generating audio: {e}\")\n",
    "\n",
    "greeting = \"Thank you for calling Alok Dental Clinic. My name is Garima, how may I assist you?\"\n",
    "ai_assistant = AI_Assistant()\n",
    "ai_assistant.generate_audio(greeting)\n",
    "ai_assistant.start_transcription()\n",
    "\n",
    "\n"
   ]
  },
  {
   "cell_type": "code",
   "execution_count": null,
   "id": "0b1d06fc-e5b7-404c-b2d5-2fef5980ddb0",
   "metadata": {},
   "outputs": [],
   "source": [
    "\n"
   ]
  }
 ],
 "metadata": {
  "kernelspec": {
   "display_name": "Python 3 (ipykernel)",
   "language": "python",
   "name": "python3"
  },
  "language_info": {
   "codemirror_mode": {
    "name": "ipython",
    "version": 3
   },
   "file_extension": ".py",
   "mimetype": "text/x-python",
   "name": "python",
   "nbconvert_exporter": "python",
   "pygments_lexer": "ipython3",
   "version": "3.11.7"
  }
 },
 "nbformat": 4,
 "nbformat_minor": 5
}
